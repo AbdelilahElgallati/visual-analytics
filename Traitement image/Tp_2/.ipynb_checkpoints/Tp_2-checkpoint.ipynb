{
 "cells": [
  {
   "cell_type": "markdown",
   "id": "b8caec79-0b27-48a7-9a29-aa4a786b01f6",
   "metadata": {},
   "source": [
    "# Activité 1: manipuler une image"
   ]
  },
  {
   "cell_type": "code",
   "execution_count": 80,
   "id": "61f56300-c27d-441e-a899-9d444d8735de",
   "metadata": {},
   "outputs": [
    {
     "name": "stdout",
     "output_type": "stream",
     "text": [
      "Requirement already satisfied: pillow in c:\\users\\dell\\anaconda3\\lib\\site-packages (10.4.0)Note: you may need to restart the kernel to use updated packages.\n",
      "\n"
     ]
    }
   ],
   "source": [
    "pip install pillow"
   ]
  },
  {
   "cell_type": "code",
   "execution_count": 110,
   "id": "ce4814d0-ee0b-456d-8793-2fcd4db3d8a4",
   "metadata": {},
   "outputs": [],
   "source": [
    "import numpy as np\n",
    "import random\n",
    "from PIL import Image, ImageFilter"
   ]
  },
  {
   "cell_type": "markdown",
   "id": "ddadc368-c02a-47ce-b396-a6998cddeb3c",
   "metadata": {},
   "source": [
    "fonction d'ajout de bruit gaussien"
   ]
  },
  {
   "cell_type": "code",
   "execution_count": 66,
   "id": "25da276a-6696-49ca-a166-ad8a1249aa45",
   "metadata": {},
   "outputs": [],
   "source": [
    "def add_gauss_noise(img, variance):\n",
    "    img = np.array(img)\n",
    "    noise = np.random.normal(0, variance, img.shape)\n",
    "    noisy_img = Image.fromarray(img + noise).convert('L')\n",
    "    return noisy_img"
   ]
  },
  {
   "cell_type": "markdown",
   "id": "9599e114-71c1-4744-a513-9f273c7ae90b",
   "metadata": {},
   "source": [
    "fonction d'ajoute de bruit implulsionnel"
   ]
  },
  {
   "cell_type": "code",
   "execution_count": 68,
   "id": "c64f66fe-f5cf-4ab6-9d92-33f866978a2c",
   "metadata": {},
   "outputs": [],
   "source": [
    "def add_imp_noise(img, density):\n",
    "    row, col = img.size\n",
    "    number_of_pixels = int(density * 100)\n",
    "    for i in range(number_of_pixels):\n",
    "        y_coord = random.randint(0, row - 1)\n",
    "        x_coord = random.randint(0, col - 1)\n",
    "        img.putpixel((y_coord, x_coord), 255)\n",
    "    for i in range(number_of_pixels):\n",
    "        y_coord = random.randint(0, row - 1)\n",
    "        x_coord = random.randint(0, col - 1)\n",
    "        img.putpixel((y_coord, x_coord), 0)\n",
    "    return img"
   ]
  },
  {
   "cell_type": "markdown",
   "id": "9ee5e83d-c931-41b4-8810-00d4dc6efb68",
   "metadata": {},
   "source": [
    "importer l'image de Lenna"
   ]
  },
  {
   "cell_type": "code",
   "execution_count": 126,
   "id": "f3c18b8a-354b-427f-8c8d-947c6594a5d9",
   "metadata": {},
   "outputs": [],
   "source": [
    "img = Image.open(\"./tsawer/fatchat.png\")\n",
    "img = img.convert('L')\n",
    "img.show(title= \"image origine\")"
   ]
  },
  {
   "cell_type": "markdown",
   "id": "0628a5a5-f7bc-46bf-bbba-49372843eefb",
   "metadata": {},
   "source": [
    "ajout de bruit gaussien au image de lenna"
   ]
  },
  {
   "cell_type": "code",
   "execution_count": 72,
   "id": "a441e5c2-fa15-4763-934b-9cedec47d88d",
   "metadata": {},
   "outputs": [],
   "source": [
    "img_gauss_noise = add_gauss_noise(img, 20)\n",
    "img_gauss_noise.show(title= \"image avec bruit gaussien\")"
   ]
  },
  {
   "cell_type": "markdown",
   "id": "d14e31ce-d1a3-45b2-9d54-bcc4d851e70e",
   "metadata": {},
   "source": [
    "ajoute de bruit implulsionnel au image de lenna"
   ]
  },
  {
   "cell_type": "code",
   "execution_count": 78,
   "id": "c95a5714-214f-4cf4-a987-f8e5e2149ddc",
   "metadata": {},
   "outputs": [],
   "source": [
    "img_imp_noise = add_imp_noise(img, 20)\n",
    "img_imp_noise.show(title= \"image avec bruit implulsionnel\")"
   ]
  },
  {
   "cell_type": "markdown",
   "id": "2910270b-9ec3-4b05-9817-1a0cfc712648",
   "metadata": {},
   "source": [
    "filtrage d'image avec bruit implulsionnel"
   ]
  },
  {
   "cell_type": "code",
   "execution_count": 86,
   "id": "64519e19-9bda-4c16-8b7d-b663cb9aa4d7",
   "metadata": {},
   "outputs": [],
   "source": [
    "filtre_img_imp_noise = img_imp_noise.filter(ImageFilter.MedianFilter(size = 3))\n",
    "filtre_img_imp_noise.show(title = \"image filtré d'un bruit implulsionnel\")"
   ]
  },
  {
   "cell_type": "markdown",
   "id": "28b7b3fc-9913-4561-82d9-8ae481a010ed",
   "metadata": {},
   "source": [
    "filtrage d'image avec bruit gaussien"
   ]
  },
  {
   "cell_type": "code",
   "execution_count": 94,
   "id": "1c3e8524-4685-4cfa-a9da-f9e065e07559",
   "metadata": {},
   "outputs": [],
   "source": [
    "filtre_img_gauss_noise = img_gauss_noise.filter(ImageFilter.GaussianBlur(radius = 0.9))\n",
    "filtre_img_gauss_noise.show(title = \"image filtré d'un bruit gaussien\")"
   ]
  },
  {
   "cell_type": "markdown",
   "id": "6dfeabb2-58d3-4220-97d4-ee9e8402bce1",
   "metadata": {},
   "source": [
    "# Activité 2: filtrage d'une image"
   ]
  },
  {
   "cell_type": "markdown",
   "id": "c7b2488c-6ba7-4373-8931-7bf85c8769e0",
   "metadata": {},
   "source": [
    "générer un filtre gaussien"
   ]
  },
  {
   "cell_type": "code",
   "execution_count": 98,
   "id": "d56561aa-d52f-45a6-aa5e-6cb7e97617bc",
   "metadata": {},
   "outputs": [],
   "source": [
    "Image_filter_gauss = img_gauss_noise.filter(ImageFilter.GaussianBlur(radius = 0.9))\n",
    "Image_filter_gauss.show(title = \"image filtré d'un bruit gaussien\")"
   ]
  },
  {
   "cell_type": "markdown",
   "id": "c053f830-06de-4c62-be80-ef3afef3147e",
   "metadata": {},
   "source": [
    "générer le noyau d'un filter moyen"
   ]
  },
  {
   "cell_type": "code",
   "execution_count": 102,
   "id": "64585640-48e2-49e7-963c-843b6aeb813d",
   "metadata": {},
   "outputs": [],
   "source": [
    "Image_filter_noyau_moyen = filtre_img_imp_noise.filter(ImageFilter.Kernel((3, 3), (1, 1, 1, 1, 1, 1, 1, 1, 1)))\n",
    "Image_filter_noyau_moyen.show(title = \"image filtré avec filter moyen\")"
   ]
  },
  {
   "cell_type": "markdown",
   "id": "ea0de3d9-367f-46d8-b5f3-47273d3aff3d",
   "metadata": {},
   "source": [
    "Interprétation\n"
   ]
  },
  {
   "cell_type": "markdown",
   "id": "b48e26c1-c7a7-48af-9af5-2270ac92ee46",
   "metadata": {},
   "source": [
    "# Activité 3: detection de contours"
   ]
  },
  {
   "cell_type": "markdown",
   "id": "efc74122-e5a1-4f86-926d-0240d83a08e4",
   "metadata": {},
   "source": [
    "fonction Seuillage"
   ]
  },
  {
   "cell_type": "code",
   "execution_count": 122,
   "id": "16066e0f-defe-4d2e-879a-d7060baa266b",
   "metadata": {},
   "outputs": [],
   "source": [
    "from PIL import Image, ImageFilter\n",
    "import numpy as np\n",
    "def Seuillage(img, seuil):\n",
    "    imagex = img.filter(ImageFilter.Kernel((seuil, seuil), (-1, 0, 1, -2, 0,2, -1, 0, 1), 1, 0))\n",
    "    imagey = img.filter(ImageFilter.Kernel((seuil, seuil), (-1, -2, -1, 0, 0,0, 1, 2, 1), 1, 0))\n",
    "    im1arr = np.asarray(imagex)\n",
    "    im2arr = np.asarray(imagey)\n",
    "    addition = im1arr + im2arr\n",
    "    img_res = Image.fromarray(addition)\n",
    "\n",
    "    return img_res"
   ]
  },
  {
   "cell_type": "markdown",
   "id": "60ce3922-78db-4fc4-84b1-df63d6b6a14a",
   "metadata": {},
   "source": [
    "test de fonction de seillage"
   ]
  },
  {
   "cell_type": "code",
   "execution_count": 130,
   "id": "9b761f6a-d59d-45eb-b614-62855e120e39",
   "metadata": {},
   "outputs": [],
   "source": [
    "img_filter = Seuillage(img, 3)\n",
    "img.show(title = \"image originale\")\n",
    "img_filter.show(title = \"image filtré\")"
   ]
  }
 ],
 "metadata": {
  "kernelspec": {
   "display_name": "Python 3 (ipykernel)",
   "language": "python",
   "name": "python3"
  },
  "language_info": {
   "codemirror_mode": {
    "name": "ipython",
    "version": 3
   },
   "file_extension": ".py",
   "mimetype": "text/x-python",
   "name": "python",
   "nbconvert_exporter": "python",
   "pygments_lexer": "ipython3",
   "version": "3.12.7"
  }
 },
 "nbformat": 4,
 "nbformat_minor": 5
}
